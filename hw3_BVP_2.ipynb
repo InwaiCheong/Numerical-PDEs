{
 "cells": [
  {
   "cell_type": "code",
   "execution_count": 1,
   "metadata": {},
   "outputs": [],
   "source": [
    "%matplotlib inline\n",
    "%precision 8\n",
    "from __future__ import print_function\n",
    "import numpy\n",
    "import matplotlib.pyplot as plt"
   ]
  },
  {
   "cell_type": "markdown",
   "metadata": {
    "deletable": false,
    "editable": false,
    "nbgrader": {
     "cell_type": "markdown",
     "checksum": "ef2b28feae58cf2edd9af7c8a38b6fcb",
     "grade": false,
     "grade_id": "cell-163692534010521",
     "locked": true,
     "schema_version": 3,
     "solution": false
    }
   },
   "source": [
    "Before you turn this problem in, make sure everything runs as expected. First, restart the kernel (in the menubar, select Kernel $\\rightarrow$ Restart) and then run all cells (in the menubar, select Cell $\\rightarrow$ Run All).\n",
    "\n",
    "Make sure you fill in any place that says YOUR CODE HERE or \"YOUR ANSWER HERE\", as well as your name and collaborators below:"
   ]
  },
  {
   "cell_type": "markdown",
   "metadata": {},
   "source": [
    "Collaborators: Ananth Ravi Kumar"
   ]
  },
  {
   "cell_type": "markdown",
   "metadata": {
    "deletable": false,
    "editable": false,
    "nbgrader": {
     "cell_type": "markdown",
     "checksum": "e41ce61050ad8b254c5d43af654ab206",
     "grade": false,
     "grade_id": "cell-7249716820754628",
     "locked": true,
     "schema_version": 3,
     "solution": false
    }
   },
   "source": [
    "# HW 3: BVP Problems II"
   ]
  },
  {
   "cell_type": "markdown",
   "metadata": {
    "deletable": false,
    "editable": false,
    "nbgrader": {
     "cell_type": "markdown",
     "checksum": "349e9e90fc03bed1594c646f14d3ba65",
     "grade": false,
     "grade_id": "cell-5597644806244618",
     "locked": true,
     "schema_version": 3,
     "solution": false
    }
   },
   "source": [
    "## Question 1 - \n",
    "\n",
    "Consider the $n \\times n$ tridiagonal matrix of the form\n",
    "$$A_\\alpha = \\begin{bmatrix}\n",
    "\\alpha & -1 \\\\\n",
    "-1 & \\alpha & -1 \\\\\n",
    "& -1 & \\alpha & -1 \\\\\n",
    "& & \\ddots & \\ddots & \\ddots \\\\\n",
    "& & & -1 & \\alpha & -1\\\\\n",
    "& & & & -1 & \\alpha\\\\\n",
    "\\end{bmatrix}$$\n",
    "where $\\alpha \\in \\mathbb{R}$."
   ]
  },
  {
   "cell_type": "markdown",
   "metadata": {
    "deletable": false,
    "editable": false,
    "nbgrader": {
     "cell_type": "markdown",
     "checksum": "b82881e9cf511bfe00f72a1265c02ec3",
     "grade": false,
     "grade_id": "cell-6388591612213509",
     "locked": true,
     "schema_version": 3,
     "solution": false
    }
   },
   "source": [
    "**(a)** [10] Verify that the eigenvalues of $A_\\alpha$ are\n",
    "$$\n",
    "    \\lambda_j = \\alpha - 2 \\cos(j \\theta), \\quad j = 1, \\ldots, n\n",
    "$$\n",
    "with\n",
    "$$\n",
    "    \\theta = \\frac{\\pi}{n + 1},\n",
    "$$\n",
    "with the eigenvectors\n",
    "$$\n",
    "    v_j = [\\sin (j \\theta), \\sin (2 j \\theta), \\ldots \\sin (n \\theta) ]^T.\n",
    "$$\n",
    "What conditions should we place on $\\alpha$ such that the matrix $A_\\alpha$ is positive definite?  *Hint:* Look up the Gershgorin Circle Theorem."
   ]
  },
  {
   "cell_type": "markdown",
   "metadata": {
    "deletable": false,
    "nbgrader": {
     "cell_type": "markdown",
     "checksum": "50b984248fb39d3904982d208e246362",
     "grade": true,
     "grade_id": "cell-2424976229775387",
     "locked": false,
     "points": 10,
     "schema_version": 3,
     "solution": true
    }
   },
   "source": [
    "## Solution\n",
    "\n",
    "$$ (A_\\alpha v_j)_i = \\alpha \\sin(ij\\theta) - \\sin(i-1)j\\theta - \\sin(i+1)j\\theta $$\n",
    "\n",
    "$$ = \\alpha \\sin(ij\\theta) - \\big[ \\sin(ij\\theta)cos(j\\theta) - cos(ij\\theta)sin(j\\theta) \\big] - \\big[ \\sin(ij\\theta)cos(j\\theta) + cos(ij\\theta)sin(j\\theta) \\big]$$\n",
    "\n",
    "$$= \\alpha \\sin(ij\\theta) - 2\\sin(ij\\theta)cos(j\\theta) = (\\alpha - 2\\cos(j\\theta))\\sin(ij\\theta)$$\n",
    "\n",
    "$$ = (\\lambda_j v_j)_i $$\n",
    "\n",
    "From the Gershgorin circle theorem, the eigenvalues lie in the range $[\\alpha - 2, \\alpha + 2]$. So $\\alpha > 2$ is needed so that $A_{\\alpha}$ is positive definite."
   ]
  },
  {
   "cell_type": "markdown",
   "metadata": {
    "deletable": false,
    "editable": false,
    "nbgrader": {
     "cell_type": "markdown",
     "checksum": "1c1563374c1f5a60108e3a83c970fe80",
     "grade": false,
     "grade_id": "cell-4319510697609654",
     "locked": true,
     "schema_version": 3,
     "solution": false
    }
   },
   "source": [
    "**(b)** [5] How does this relate to the matrices we have been building for the Poisson problem?"
   ]
  },
  {
   "cell_type": "markdown",
   "metadata": {
    "deletable": false,
    "nbgrader": {
     "cell_type": "markdown",
     "checksum": "d45c42fb1045bcd47f58cff7d05bf77c",
     "grade": true,
     "grade_id": "cell-4211276705995209",
     "locked": false,
     "points": 5,
     "schema_version": 3,
     "solution": true
    }
   },
   "source": [
    "## Solution\n",
    "\n",
    "The matrices are the same, but only differ by scaling and the sign."
   ]
  },
  {
   "cell_type": "markdown",
   "metadata": {
    "deletable": false,
    "editable": false,
    "nbgrader": {
     "cell_type": "markdown",
     "checksum": "223eccfd80f0b65c76d7b334f92ee719",
     "grade": false,
     "grade_id": "cell-220212756830382",
     "locked": true,
     "schema_version": 3,
     "solution": false
    }
   },
   "source": [
    "**(c)** [10]  Will the Jacobi method converge for this matrix?  You can do this analytically or with a computation.  Assume that we are solving the problem on the domain $\\Omega = [0, 1]$ and boundary conditions $u(0) = u(1) = 0$ in terms of setting up the matrix.  Regardless of your analytical results show the convergence results for multiple values of $\\alpha$."
   ]
  },
  {
   "cell_type": "markdown",
   "metadata": {
    "deletable": false,
    "nbgrader": {
     "cell_type": "markdown",
     "checksum": "6108a73ced955c89aa6098f0641da0c7",
     "grade": true,
     "grade_id": "cell-1541502924109178",
     "locked": false,
     "points": 5,
     "schema_version": 3,
     "solution": true
    }
   },
   "source": [
    "## Solution\n",
    "\n",
    "Yes, for $\\alpha > 2$. \n",
    "\n",
    "Let $$M = \\frac{\\alpha}{\\Delta x^2} I = D$$ and \n",
    "\n",
    "$$\n",
    "N = \\frac{1}{\\Delta x^2} \\begin{bmatrix}\n",
    "        0 & 1 & \\\\\n",
    "        1 & 0 & 1 \\\\\n",
    "          & \\ddots & \\ddots & \\ddots \\\\\n",
    "          & & 1 & 0 & 1 \\\\\n",
    "          & &   & 1 & 0 \n",
    "          \\end{bmatrix} \n",
    "$$ \n",
    "Then, we have that \n",
    "\n",
    "$$G = I - D^{-1}A \\implies \\rho(G) = \\rho(I - D^{-1}A) $$\n",
    "\n",
    "\n",
    "From part (a) we know that $\\lambda_j = \\alpha - 2\\cos(j\\theta)$. Let the eigenvalues of $G$ be $\\mu_j$; then we have that \n",
    "\n",
    "$$\\mu_j = 1 - \\frac{1}{\\alpha}(\\alpha - 2\\cos(j\\theta)) = \\frac{2}{\\alpha}\\cos(j\\theta) $$"
   ]
  },
  {
   "cell_type": "code",
   "execution_count": 2,
   "metadata": {
    "deletable": false,
    "nbgrader": {
     "cell_type": "code",
     "checksum": "9244d2a44b41afa05f0ea631848f8c4f",
     "grade": true,
     "grade_id": "cell-5f52b7b549c8f7ca",
     "locked": false,
     "points": 5,
     "schema_version": 3,
     "solution": true,
     "task": false
    }
   },
   "outputs": [
    {
     "data": {
      "image/png": "[encoded data removed]",
      "text/plain": [
       "<Figure size 720x540 with 1 Axes>"
      ]
     },
     "metadata": {
      "needs_background": "light"
     },
     "output_type": "display_data"
    }
   ],
   "source": [
    "# YOUR CODE HERE\n",
    "m=100\n",
    "a=0\n",
    "b=1\n",
    "r = []\n",
    "k = []\n",
    "alphas = numpy.arange(1, 10, 1)\n",
    "\n",
    "for i in alphas:\n",
    "\n",
    "    xvals = numpy.linspace(a, b, m)\n",
    "    delta_x = (b - a)/(m + 1)\n",
    "    diagonal = numpy.ones(m)\n",
    "    \n",
    "    A = numpy.zeros((m, m))\n",
    "    A += numpy.diag(diagonal, 0) * i \n",
    "    A += numpy.diag(-diagonal[:-1], 1)\n",
    "    A += numpy.diag(-diagonal[:-1], -1)\n",
    "    A *= 1/delta_x ** 2\n",
    "    \n",
    "    M_inv = delta_x ** 2 / i * numpy.eye(m)\n",
    "    G = numpy.eye(m) - numpy.dot(M_inv, A)\n",
    "    rho_G = numpy.max(numpy.abs(numpy.linalg.eigvals(G)))\n",
    "    r.append(rho_G)\n",
    "    k.append(numpy.linalg.cond(A))\n",
    "    \n",
    "plt.figure(figsize=(10, 7.5))\n",
    "plt.plot(alphas, r, label='spectral radius', alpha=0.5, marker='o')\n",
    "plt.plot(alphas, numpy.ones(len(alphas)),'r--', label='y = 1')\n",
    "plt.grid() \n",
    "plt.title(\"alpha vs spectral radius of G\")\n",
    "plt.legend()\n",
    "plt.xlabel(\"alpha\")\n",
    "plt.ylabel(\"spectral radius\")\n",
    "plt.show()"
   ]
  },
  {
   "cell_type": "markdown",
   "metadata": {
    "deletable": false,
    "editable": false,
    "nbgrader": {
     "cell_type": "markdown",
     "checksum": "32916bb56265836df9b12e60a189489b",
     "grade": false,
     "grade_id": "cell-1854114102828238",
     "locked": true,
     "schema_version": 3,
     "solution": false
    }
   },
   "source": [
    "**(d)** [10]  Repeat the same from part (c) with the Gauss-Seidel method."
   ]
  },
  {
   "cell_type": "markdown",
   "metadata": {
    "deletable": false,
    "nbgrader": {
     "cell_type": "markdown",
     "checksum": "b7b794fe6b7f9c9f8453e78e758f564a",
     "grade": true,
     "grade_id": "cell-8858229551227459",
     "locked": false,
     "points": 5,
     "schema_version": 3,
     "solution": true
    }
   },
   "source": [
    "## Solution\n",
    "\n",
    "Our $G$ is given by:\n",
    "\n",
    "$$G = M^{-1}N = (L + D)^{-1}U $$\n",
    "\n",
    "and also converges when $\\alpha >2$"
   ]
  },
  {
   "cell_type": "code",
   "execution_count": 3,
   "metadata": {
    "deletable": false,
    "nbgrader": {
     "cell_type": "code",
     "checksum": "6e6d605af1fc638da64b6577e860e78f",
     "grade": true,
     "grade_id": "cell-677f010b5988cd20",
     "locked": false,
     "points": 5,
     "schema_version": 3,
     "solution": true,
     "task": false
    }
   },
   "outputs": [
    {
     "data": {
      "image/png": "[encoded data removed]",
      "text/plain": [
       "<Figure size 720x540 with 1 Axes>"
      ]
     },
     "metadata": {
      "needs_background": "light"
     },
     "output_type": "display_data"
    }
   ],
   "source": [
    "# YOUR CODE HERE\n",
    "alphas = numpy.arange(1, 10, 1)\n",
    "r = []\n",
    "k = []\n",
    "\n",
    "for i in alphas:\n",
    "    # construct G matrix. \n",
    "    xvals = numpy.linspace(a, b, m)\n",
    "    delta_x = (b - a)/(m + 1)\n",
    "    diagonal = numpy.ones(m)\n",
    "    A = numpy.zeros((m, m))\n",
    "    \n",
    "    L = A + numpy.diag(-diagonal[:-1], -1) / delta_x ** 2 \n",
    "    D = A + numpy.diag(diagonal, 0) * i / delta_x ** 2\n",
    "    U = A + numpy.diag(diagonal[:-1], 1) / delta_x ** 2\n",
    "    G = numpy.dot(numpy.linalg.inv(L+D), U)\n",
    "    rho_G = numpy.max(numpy.abs(numpy.linalg.eigvals(G)))\n",
    "    r.append(rho_G)\n",
    "    k.append(numpy.linalg.cond(L + D - U))\n",
    "    \n",
    "plt.figure(figsize=(10, 7.5))\n",
    "plt.semilogy(alphas, r, label='spectral radius', alpha=0.5, marker='o')\n",
    "plt.plot(alphas, numpy.ones(len(alphas)),'r--', label='y = 1')\n",
    "plt.grid() \n",
    "plt.title(\"alpha vs spectral radius of G\")\n",
    "plt.legend()\n",
    "plt.xlabel(\"alpha\")\n",
    "plt.ylabel(\"spectral radius\")\n",
    "plt.show()"
   ]
  },
  {
   "cell_type": "markdown",
   "metadata": {
    "deletable": false,
    "editable": false,
    "nbgrader": {
     "cell_type": "markdown",
     "checksum": "5dc4c4a71cc232a64065908479d33eb6",
     "grade": false,
     "grade_id": "cell-3536375645069364",
     "locked": true,
     "schema_version": 3,
     "solution": false
    }
   },
   "source": [
    "**(e)** [15]  For SOR we also have the value of $\\omega$ to consider.  Pick a value of $\\alpha$ you expect to converge (other than $\\alpha = w$) and computationally find the optimal value of $\\omega$.  Justify your conclusion with a plot and use a numerical method to find the optimum."
   ]
  },
  {
   "cell_type": "markdown",
   "metadata": {
    "deletable": false,
    "nbgrader": {
     "cell_type": "markdown",
     "checksum": "568b6c61c35ce78561aa523a2d3d7053",
     "grade": true,
     "grade_id": "cell-6714520747349757",
     "locked": false,
     "points": 5,
     "schema_version": 3,
     "solution": true
    }
   },
   "source": [
    "## Solution\n",
    "\n",
    "From the previous results, we know that we require $\\alpha>2$ for $A$ to not be ill-conditioned. Suppose $\\alpha=7$, then:\n",
    "\n",
    "$$ M = \\frac{1}{\\omega} (D - \\omega L) $$ \n",
    "\n",
    "$$ N = \\frac{1}{\\omega} ((1-\\omega)D + \\omega U)$$\n",
    "\n",
    "Then:\n",
    "\n",
    "$M - N = D - L - U$ with $M - N = A$."
   ]
  },
  {
   "cell_type": "code",
   "execution_count": 4,
   "metadata": {
    "deletable": false,
    "nbgrader": {
     "cell_type": "code",
     "checksum": "cb9f999fc2f01399764a2c05664ce493",
     "grade": true,
     "grade_id": "cell-9119449311723476",
     "locked": false,
     "points": 10,
     "schema_version": 3,
     "solution": true
    }
   },
   "outputs": [
    {
     "data": {
      "image/png": "[encoded data removed]",
      "text/plain": [
       "<Figure size 720x540 with 1 Axes>"
      ]
     },
     "metadata": {
      "needs_background": "light"
     },
     "output_type": "display_data"
    }
   ],
   "source": [
    "# YOUR CODE HERE\n",
    "omegas = numpy.linspace(0.5, 1.75, 600)\n",
    "alpha = 7\n",
    "a = 0\n",
    "b = 1\n",
    "u_a = 0\n",
    "u_b = 0\n",
    "m = 100\n",
    "\n",
    "xvals = numpy.linspace(a, b, m)\n",
    "delta_x = (b - a)/(m + 1)\n",
    "diagonal = numpy.ones(m)\n",
    "A = numpy.zeros((m, m))\n",
    "\n",
    "L = A + numpy.diag(diagonal[:-1], -1) / delta_x ** 2 \n",
    "D = A + numpy.diag(diagonal, 0) * alpha / delta_x ** 2\n",
    "U = A + numpy.diag(diagonal[:-1], 1) / delta_x ** 2\n",
    "\n",
    "r = []\n",
    "\n",
    "f_omega = lambda M, N: numpy.max(numpy.abs(numpy.linalg.eigvals(numpy.dot(numpy.linalg.inv(M), N))))\n",
    "\n",
    "for i in omegas:\n",
    "    M = 1/i * (D - i * L)\n",
    "    N = 1/i * ((1-i)*D + i*U)\n",
    "    G = numpy.dot(numpy.linalg.inv(M), N)         \n",
    "    rho_G = numpy.max(numpy.abs(numpy.linalg.eigvals(G)))\n",
    "    r.append(rho_G)\n",
    "\n",
    "min_rad_index = r.index(numpy.min(r))\n",
    "omega_opt = omegas[min_rad_index]\n",
    "plt.figure(figsize=(10, 7.5))\n",
    "plt.semilogy(omegas, r, label='spectral radius', alpha=0.5, marker='o')\n",
    "plt.grid() \n",
    "plt.title(\"$\\omega$ vs spectral radius of G. $\\omega_{opt} = %.5f $\" % omega_opt)\n",
    "plt.legend()\n",
    "plt.xlabel(\"omega\")\n",
    "plt.ylabel(\"spectral radius\")\n",
    "plt.show()"
   ]
  },
  {
   "cell_type": "markdown",
   "metadata": {
    "deletable": false,
    "editable": false,
    "nbgrader": {
     "cell_type": "markdown",
     "checksum": "5054ba4ee70ddc3df0e4a207860c93da",
     "grade": false,
     "grade_id": "cell-1516619636280155",
     "locked": true,
     "schema_version": 3,
     "solution": false
    }
   },
   "source": [
    "## Question 2\n",
    "\n",
    "Consider the two-dimensional Poisson problem defined as\n",
    "$$\n",
    "    \\nabla^2 u = f(x,y) ~~~~ \\Omega = [0, 1] \\times [0, 1]\n",
    "$$\n",
    "with Dirichlet boundary conditions $u(x,y)|_{\\partial \\Omega} = 0$.\n",
    "\n",
    "Note that the notation $\\partial \\Omega$ often refers to the boundary of $\\Omega$ and $u(x,y)|_{\\partial \\Omega}$ the solution evaluted at the boundary."
   ]
  },
  {
   "cell_type": "markdown",
   "metadata": {
    "deletable": false,
    "editable": false,
    "nbgrader": {
     "cell_type": "markdown",
     "checksum": "dba24138837c08ac9a93452eb8a575ca",
     "grade": false,
     "grade_id": "cell-6540906372372899",
     "locked": true,
     "schema_version": 3,
     "solution": false
    }
   },
   "source": [
    "**(a)** [5] If we wanted to consider solutions of the form\n",
    "$$\n",
    "    u(x,y) = (y^3 - y) (\\cos(2 \\pi x) - 1)\n",
    "$$\n",
    "what should we require $f(x,y)$ to be?  Is this consistent with the boundary conditions?  This technique of assuming a solution and finding what forcing function would give you that solution is called the **Method of Manufactured Solutions** and is a good way to test numerical methods."
   ]
  },
  {
   "cell_type": "markdown",
   "metadata": {
    "deletable": false,
    "nbgrader": {
     "cell_type": "markdown",
     "checksum": "9b9de003f778c4f10f3e9ef78fe6c02c",
     "grade": true,
     "grade_id": "cell-1447929132872462",
     "locked": false,
     "points": 5,
     "schema_version": 3,
     "solution": true
    }
   },
   "source": [
    "## Solutions\n",
    "\n",
    "The form for 2D Poisson is: $u_{xx} + u_{yy} = -\\frac{\\Psi}{\\kappa} = f(x,y)$\n",
    "\n",
    "Evaluating via WolframAlpha:\n",
    "\n",
    "$u_{xx} = -4\\pi ^2y\\left((y^2 - 1)\\cos(2\\pi x)\\right)$ <br>\n",
    "$u_{yy} = 6y\\left((\\cos(2\\pi x) - 1)\\right)$\n",
    "\n",
    "So we get:\n",
    "\n",
    "$f(x,y) = y \\left((-6 + (6 - 4 \\pi^2 (-1 + y^2)) \\cos(2 \\pi x))\\right)$\n",
    "\n",
    "This is consistent with boundary conditions as evaluation of $f(x,y)$ at $x=0$ and $y=1$ gives $0$."
   ]
  },
  {
   "cell_type": "markdown",
   "metadata": {
    "deletable": false,
    "editable": false,
    "nbgrader": {
     "cell_type": "markdown",
     "checksum": "c920dfd9a4af91f57cff64249a925f69",
     "grade": false,
     "grade_id": "cell-3183645985631593",
     "locked": true,
     "schema_version": 3,
     "solution": false
    }
   },
   "source": [
    "**(b)** [10] Implement a finite difference method for the problem above with grid spacing $\\Delta x = \\Delta y$ using a 9-point Laplacian."
   ]
  },
  {
   "cell_type": "markdown",
   "metadata": {},
   "source": [
    "For reference:\n",
    "\n",
    "$$\n",
    "    \\nabla^2 u_{ij} = \\frac{1}{6 \\Delta x^2} \\left(4 u_{i-1,j} + 4 u_{i+1,j} + 4 u_{i,j-1} + 4 u_{i,j+1} + u_{i-1,j-1} + u_{i+1,j-1} + u_{i+1,j+1} + u_{i-1,j+1} -20 u_{i,j}  \\right).\n",
    "$$"
   ]
  },
  {
   "cell_type": "code",
   "execution_count": 5,
   "metadata": {
    "deletable": false,
    "nbgrader": {
     "cell_type": "code",
     "checksum": "1f64329de1a7b3e3ae792e8db61832c9",
     "grade": false,
     "grade_id": "cell-1546965269985574",
     "locked": false,
     "schema_version": 3,
     "solution": true
    }
   },
   "outputs": [],
   "source": [
    "# Suggested modules to use to construct matrix A\n",
    "# You do not have to use these, they just may be helpful\n",
    "import scipy.sparse as sparse\n",
    "import scipy.sparse.linalg as linalg\n",
    "\n",
    "def solve_9point(m, f):\n",
    "    # YOUR CODE HERE\n",
    "\n",
    "    #Discretization\n",
    "    x = numpy.linspace(0, 1, m+2)\n",
    "    y = numpy.linspace(0, 1, m+2)\n",
    "    dx = 1.0 / (m + 1)\n",
    "    \n",
    "    #Making A matrix\n",
    "    e = numpy.ones(m**2)\n",
    "    e1 = ([4] * (m-1) + [0]) * m\n",
    "    e2 = ([1] * (m-1) + [0]) * m\n",
    "    e3 = ([0] + [1] * (m-1)) * m\n",
    "    e4 = ([0] + [4] * (m-1)) * m\n",
    "    A = (sparse.spdiags([e2, 4.0*e, e3, e1, -20.0*e, e4, e2, 4.0*e, e3], [-m-1, -m, -m+1, -1, 0, 1, m-1, m, m+1], m**2, m**2)) / (6.0*dx**2)\n",
    "    X, Y = numpy.meshgrid(x[1:-1], y[1:-1])\n",
    "    f = f(X,Y)\n",
    "    \n",
    "    #Solving\n",
    "    U = numpy.zeros((m+2, m+2))\n",
    "    U[1:-1, 1:-1] = linalg.spsolve(A, f.reshape(m**2, order='F')).reshape((m, m), order='F')\n",
    "    return x, y, U"
   ]
  },
  {
   "cell_type": "code",
   "execution_count": 6,
   "metadata": {
    "deletable": false,
    "editable": false,
    "nbgrader": {
     "cell_type": "code",
     "checksum": "63a2a1aefa3907d5faf9190afca3d90e",
     "grade": true,
     "grade_id": "cell-7233410316345997",
     "locked": true,
     "points": 10,
     "schema_version": 3,
     "solution": false
    }
   },
   "outputs": [
    {
     "name": "stdout",
     "output_type": "stream",
     "text": [
      "0.00026543132573219767\n",
      "Success!\n"
     ]
    },
    {
     "name": "stderr",
     "output_type": "stream",
     "text": [
      "/opt/conda/lib/python3.8/site-packages/scipy/sparse/linalg/dsolve/linsolve.py:144: SparseEfficiencyWarning: spsolve requires A be CSC or CSR matrix format\n",
      "  warn('spsolve requires A be CSC or CSR matrix format',\n"
     ]
    }
   ],
   "source": [
    "f = lambda x, y: -(20.0 * y**3 + 9.0 * numpy.pi**2 * (y - y**5)) * numpy.sin(3.0 * numpy.pi * x)\n",
    "u_true = lambda x, y: (y - y**5) * numpy.sin(3.0 * numpy.pi * x)\n",
    "\n",
    "x, y, U = solve_9point(100, f)\n",
    "X, Y = numpy.meshgrid(x, y)\n",
    "error = numpy.linalg.norm((x[1] - x[0]) * (u_true(X, Y) - U), ord=1)\n",
    "print(error)\n",
    "assert error < 1e-3\n",
    "print(\"Success!\")"
   ]
  },
  {
   "cell_type": "markdown",
   "metadata": {
    "deletable": false,
    "editable": false,
    "nbgrader": {
     "cell_type": "markdown",
     "checksum": "c9d5af935360efd680e5a8d0ea3f721c",
     "grade": false,
     "grade_id": "cell-6915100562515666",
     "locked": true,
     "schema_version": 3,
     "solution": false
    }
   },
   "source": [
    "**(c)** [5] Show that the method is second-order accurate by preforming a convergence study (i.e. plot the error vs. $\\Delta x$ and compare this to the slopes for first and second order accurate methods)."
   ]
  },
  {
   "cell_type": "code",
   "execution_count": 7,
   "metadata": {
    "deletable": false,
    "nbgrader": {
     "cell_type": "code",
     "checksum": "8d846528af9b5e85d49156306c8c4b73",
     "grade": true,
     "grade_id": "cell-1081754757723675",
     "locked": false,
     "points": 5,
     "schema_version": 3,
     "solution": true
    }
   },
   "outputs": [
    {
     "data": {
      "image/png": "[encoded data removed]",
      "text/plain": [
       "<Figure size 432x288 with 1 Axes>"
      ]
     },
     "metadata": {
      "needs_background": "light"
     },
     "output_type": "display_data"
    }
   ],
   "source": [
    "# YOUR CODE HERE\n",
    "f = lambda x, y: -(20.0 * y**3 + 9.0 * numpy.pi**2 * (y - y**5)) * numpy.sin(3.0 * numpy.pi * x)\n",
    "u_true = lambda x, y: (y - y**5) * numpy.sin(3.0 * numpy.pi * x)\n",
    "\n",
    "#Creating our arrays \n",
    "m_range = numpy.arange(10, 200, 20)\n",
    "delta_x = numpy.empty(m_range.shape)\n",
    "error = numpy.empty((m_range.shape[0], 10))\n",
    "\n",
    "#Calculating solutions & errors\n",
    "for (i, m) in enumerate(m_range):\n",
    "    \n",
    "    x = numpy.linspace(0, 1, m + 2)\n",
    "    delta_x[i] = (1 - 0) / (m + 1)\n",
    "\n",
    "    # Compute solution\n",
    "    x,y,U = solve_9point(m, f)\n",
    "    X, Y = numpy.meshgrid(x, y)\n",
    "    error[i] = numpy.linalg.norm((x[1] - x[0]) * (u_true(X, Y) - U), ord=1)\n",
    "    \n",
    "#Plotting    \n",
    "fig = plt.figure()\n",
    "axes = fig.add_subplot(1, 1, 1)\n",
    "\n",
    "order_C = lambda delta_x, error, order: numpy.exp(numpy.log(error) - order * numpy.log(delta_x))\n",
    "axes.loglog(delta_x, error, 'ko')\n",
    "axes.loglog(delta_x, order_C(delta_x[0], error[0], 1.0) * delta_x**1.0, 'r--', label=\"1st Order\")\n",
    "axes.loglog(delta_x, order_C(delta_x[0], error[0], 2.0) * delta_x**2.0, 'b--', label=\"2nd Order\")\n",
    "axes.legend(loc=4)\n",
    "axes.set_title(\"Convergence of 2nd Order\")\n",
    "axes.set_xlabel(\"$\\Delta x$\")\n",
    "axes.set_ylabel(\"$|f'(x) - \\hat{f}'(x)|$\")\n",
    "\n",
    "\n",
    "plt.show()"
   ]
  },
  {
   "cell_type": "markdown",
   "metadata": {
    "deletable": false,
    "editable": false,
    "nbgrader": {
     "cell_type": "markdown",
     "checksum": "25d9f98147f05a6a0b65d3e644b8dc85",
     "grade": false,
     "grade_id": "cell-2285741892965187",
     "locked": true,
     "schema_version": 3,
     "solution": false
    }
   },
   "source": [
    "**(d)** [15] Show that the 9-point Laplacian can be written as a 5-point Laplacian **plus** a finite difference approximation of $\\frac{1}{6}h^2 u_{xxyy} + \\mathcal O(h^4)$."
   ]
  },
  {
   "cell_type": "markdown",
   "metadata": {
    "deletable": false,
    "nbgrader": {
     "cell_type": "markdown",
     "checksum": "41eda328cd38f5fa941222fbdd1d2344",
     "grade": true,
     "grade_id": "cell-2044210535698725",
     "locked": false,
     "points": 15,
     "schema_version": 3,
     "solution": true
    }
   },
   "source": [
    "### Solution\n",
    "\n",
    "9-point stencil is:\n",
    "$$\n",
    "\\nabla^2 u_{ij} = \\frac{1}{6 \\Delta x^2} \\left(4 u_{i-1,j} + 4 u_{i+1,j} + 4 u_{i,j-1} + 4 u_{i,j+1} + u_{i-1,j-1} + u_{i+1,j-1} + u_{i+1,j+1} + u_{i-1,j+1} -20 u_{i,j}  \\right).\n",
    "$$\n",
    "\n",
    "Expanding using Taylor series gives us:\n",
    "\n",
    "$$\n",
    "\\nabla^2 u(x_i,y_j) = \\nabla^2 u + \\frac{1}{12}\\Delta x^2 (u_{xxxx} + 2u_{xxyy} + u_{yyyy}) + \\mathcal{O}(\\Delta x^4)\n",
    "$$"
   ]
  },
  {
   "cell_type": "markdown",
   "metadata": {},
   "source": [
    "5-point LTE is:\n",
    "$$\n",
    "    \\tau_{ij} =  \\frac{1}{12} \\Delta x^2 (u_{xxxx} + u_{yyyy}) + \\mathcal{O}(\\Delta x^4).\n",
    "$$"
   ]
  },
  {
   "cell_type": "markdown",
   "metadata": {},
   "source": [
    "The difference between the 9-point and 5-point can then be expressed as:\n",
    "\n",
    "$$\n",
    "\\left(\\frac{1}{12}\\Delta x^2 (u_{xxxx} + 2u_{xxyy} + u_{yyyy}) + \\mathcal{O}(\\Delta x^4)\\right) - \\left(\\frac{1}{12} \\Delta x^2 (u_{xxxx} + u_{yyyy}) + \\mathcal{O}(\\Delta x^4)\\right)\n",
    "$$"
   ]
  },
  {
   "cell_type": "markdown",
   "metadata": {},
   "source": [
    "Which will simplifies to:\n",
    "\n",
    "$$\n",
    "\\frac{1}{6}\\Delta ^2 u_{xxyy} + \\mathcal{O}(\\Delta x^4)\n",
    "$$"
   ]
  },
  {
   "cell_type": "markdown",
   "metadata": {
    "deletable": false,
    "editable": false,
    "nbgrader": {
     "cell_type": "markdown",
     "checksum": "f7e9ce580e09d2e7096eba1a9e460a30",
     "grade": false,
     "grade_id": "cell-9139904614900438",
     "locked": true,
     "schema_version": 3,
     "solution": false
    }
   },
   "source": [
    "**(e)** [15] Modify your function to use the trick introduced in class that will cause the 9-point Laplacian stencil to become 4th order accurate.  Show that this is true via a convergence study."
   ]
  },
  {
   "cell_type": "code",
   "execution_count": 8,
   "metadata": {
    "deletable": false,
    "nbgrader": {
     "cell_type": "code",
     "checksum": "d0e3e794b649ab5c547555fd6d37f85c",
     "grade": true,
     "grade_id": "cell-8435370903460673",
     "locked": false,
     "points": 15,
     "schema_version": 3,
     "solution": true
    }
   },
   "outputs": [],
   "source": [
    "# YOUR CODE HERE\n",
    "def solve_9point_4thOrder(m, f):\n",
    "    # YOUR CODE HERE\n",
    "    \n",
    "    #Discretization\n",
    "    x = numpy.linspace(0, 1, m+2)\n",
    "    y = numpy.linspace(0, 1, m+2)\n",
    "    delx = 1.0 / (m + 1)\n",
    "    \n",
    "    #Calculation of 2nd derivatives\n",
    "    d2f_x = lambda x, y: -7890.14*(y**5 - 0.225158*y**3 - y)*numpy.sin(9.42478*x)\n",
    "    d2f_y = lambda x, y: y*(1776.53*y**2 - 120)*numpy.sin(9.42478*x)\n",
    "    \n",
    "    # Construct matrix\n",
    "    e = numpy.ones(m**2)\n",
    "    e1 = ([4] * (m-1) + [0]) * m\n",
    "    e2 = ([1] * (m-1) + [0]) * m\n",
    "    e3 = ([0] + [1] * (m-1)) * m\n",
    "    e4 = ([0] + [4] * (m-1)) * m\n",
    "    A = (sparse.spdiags([e2, 4.0*e, e3, e1, -20.0*e, e4, e2, 4.0*e, e3], [-m-1, -m, -m+1, -1, 0, 1, m-1, m, m+1], m**2, m**2)) / (6.0*delx**2)\n",
    "    \n",
    "    #Solve\n",
    "    X, Y = numpy.meshgrid(x[1:-1], y[1:-1])\n",
    "    f2 = f(X,Y) + (delx**2/12.0)*((d2f_x(X,Y) + d2f_y(X,Y)))\n",
    "    U = numpy.zeros((m+2, m+2))\n",
    "    U[1:-1, 1:-1] = linalg.spsolve(A, f2.reshape(m**2, order='F')).reshape((m, m), order='F')\n",
    "    \n",
    "    return x, y, U"
   ]
  },
  {
   "cell_type": "code",
   "execution_count": 9,
   "metadata": {},
   "outputs": [
    {
     "name": "stderr",
     "output_type": "stream",
     "text": [
      "/opt/conda/lib/python3.8/site-packages/scipy/sparse/linalg/dsolve/linsolve.py:144: SparseEfficiencyWarning: spsolve requires A be CSC or CSR matrix format\n",
      "  warn('spsolve requires A be CSC or CSR matrix format',\n"
     ]
    },
    {
     "data": {
      "image/png": "[encoded data removed]",
      "text/plain": [
       "<Figure size 432x288 with 1 Axes>"
      ]
     },
     "metadata": {
      "needs_background": "light"
     },
     "output_type": "display_data"
    }
   ],
   "source": [
    "# YOUR CODE HERE\n",
    "f = lambda x, y: -(20.0 * y**3 + 9.0 * numpy.pi**2 * (y - y**5)) * numpy.sin(3.0 * numpy.pi * x)\n",
    "u_true = lambda x, y: (y - y**5) * numpy.sin(3.0 * numpy.pi * x)\n",
    "\n",
    "#Creating our arrays \n",
    "m_range = numpy.arange(10, 200, 20)\n",
    "delta_x = numpy.empty(m_range.shape)\n",
    "error = numpy.empty((m_range.shape[0], 10))\n",
    "\n",
    "#Calculating solutions & errors\n",
    "for (i, m) in enumerate(m_range):\n",
    "    \n",
    "    x = numpy.linspace(0, 1, m + 2)\n",
    "    delta_x[i] = (1 - 0) / (m + 1)\n",
    "\n",
    "    # Compute solution\n",
    "    x,y,U = solve_9point_4thOrder(m, f)\n",
    "    X, Y = numpy.meshgrid(x, y)\n",
    "    error[i] = numpy.linalg.norm((x[1] - x[0]) * (u_true(X, Y) - U), ord=1)\n",
    "    \n",
    "#Plotting    \n",
    "fig = plt.figure()\n",
    "axes = fig.add_subplot(1, 1, 1)\n",
    "\n",
    "order_C = lambda delta_x, error, order: numpy.exp(numpy.log(error) - order * numpy.log(delta_x))\n",
    "axes.loglog(delta_x, error, 'ko')\n",
    "axes.loglog(delta_x, order_C(delta_x[0], error[0], 1.0) * delta_x**1.0, 'r--', label=\"1st Order\")\n",
    "axes.loglog(delta_x, order_C(delta_x[0], error[0], 2.0) * delta_x**2.0, 'g--', label=\"2nd Order\")\n",
    "axes.loglog(delta_x, order_C(delta_x[0], error[0], 3.0) * delta_x**3.0, 'y--', label=\"3rd Order\")\n",
    "axes.loglog(delta_x, order_C(delta_x[0], error[0], 4.0) * delta_x**4.0, 'b--', label=\"4th Order\")\n",
    "axes.legend(loc=4)\n",
    "axes.set_title(\"Convergence of 4th Order\")\n",
    "axes.set_xlabel(\"$\\Delta x$\")\n",
    "axes.set_ylabel(\"$|f'(x) - \\hat{f}'(x)|$\")\n",
    "\n",
    "\n",
    "plt.show()"
   ]
  },
  {
   "cell_type": "code",
   "execution_count": null,
   "metadata": {},
   "outputs": [],
   "source": []
  }
 ],
 "metadata": {
  "kernelspec": {
   "display_name": "Python 3",
   "language": "python",
   "name": "python3"
  },
  "language_info": {
   "codemirror_mode": {
    "name": "ipython",
    "version": 3
   },
   "file_extension": ".py",
   "mimetype": "text/x-python",
   "name": "python",
   "nbconvert_exporter": "python",
   "pygments_lexer": "ipython3",
   "version": "3.8.5"
  },
  "latex_envs": {
   "bibliofile": "biblio.bib",
   "cite_by": "apalike",
   "current_citInitial": 1,
   "eqLabelWithNumbers": true,
   "eqNumInitial": 0
  }
 },
 "nbformat": 4,
 "nbformat_minor": 4
}
