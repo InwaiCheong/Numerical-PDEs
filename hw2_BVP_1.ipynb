{
 "cells": [
  {
   "cell_type": "code",
   "execution_count": 1,
   "metadata": {},
   "outputs": [],
   "source": [
    "from __future__ import print_function\n",
    "\n",
    "%matplotlib inline\n",
    "%precision 16\n",
    "\n",
    "import numpy\n",
    "import numpy as np\n",
    "import matplotlib.pyplot as plt"
   ]
  },
  {
   "cell_type": "markdown",
   "metadata": {
    "deletable": false,
    "editable": false,
    "nbgrader": {
     "cell_type": "markdown",
     "checksum": "3f092e67b484a1954d3ec5ec259bef78",
     "grade": false,
     "grade_id": "cell-8060040740038557",
     "locked": true,
     "schema_version": 3,
     "solution": false
    }
   },
   "source": [
    "Before you turn this problem in, make sure everything runs as expected. First, restart the kernel (in the menubar, select Kernel $\\rightarrow$ Restart) and then run all cells (in the menubar, select Cell $\\rightarrow$ Run All).\n",
    "\n",
    "Make sure you fill in any place that says YOUR CODE HERE or \"YOUR ANSWER HERE\", as well as your name and collaborators below:"
   ]
  },
  {
   "cell_type": "markdown",
   "metadata": {
    "deletable": false,
    "editable": false,
    "nbgrader": {
     "cell_type": "markdown",
     "checksum": "aa5b287941e60a426bb91dbb74b9fe46",
     "grade": false,
     "grade_id": "cell-138414089851314",
     "locked": true,
     "schema_version": 3,
     "solution": false
    }
   },
   "source": [
    "# HW 2: BVP Problems 1"
   ]
  },
  {
   "cell_type": "markdown",
   "metadata": {
    "deletable": false,
    "editable": false,
    "nbgrader": {
     "cell_type": "markdown",
     "checksum": "578d5c99eab27c18a4bf7eea693429a6",
     "grade": false,
     "grade_id": "cell-4176609066127934",
     "locked": true,
     "schema_version": 3,
     "solution": false
    }
   },
   "source": [
    "## Question 1\n",
    "\n",
    "Consider the convection-diffusion problem defined by\n",
    "$$\n",
    "    u_t + au_x = \\kappa u_{xx} + \\psi(x)\n",
    "$$\n",
    "This is similar to the heat conduction problem except that we also have a convective term $a~u_x$.  You can think of $u(x,t)$ as describing the distribution of dye in a stream flowing at velocity $a$ where $\\kappa$ describes how quickly the dye diffuses and $\\psi(x)$ represents dye being added to the stream.\n",
    "\n",
    "Considering the steady state solution of the problem above leads to the ODE\n",
    "$$\n",
    "    \\epsilon u''(x) - u'(x) = f(x)\n",
    "$$\n",
    "where $\\epsilon$ represents the relative strength of the advective and diffusive effects.\n",
    "\n",
    "We will solve this problem with the domain and boundary conditions\n",
    "$$\n",
    "    \\Omega = [0, 1] ~~~~ u(0)=\\alpha ~~~~ u(1)=\\beta ~~~~ f(x) = -1\n",
    "$$\n",
    "whose true solution is\n",
    "$$\n",
    "    u(x) = \\alpha + x + (\\beta - \\alpha -1) \\left( \\frac{e^{x / \\epsilon} - 1}{e^{1 / \\epsilon} - 1} \\right ).\n",
    "$$"
   ]
  },
  {
   "cell_type": "markdown",
   "metadata": {
    "deletable": false,
    "editable": false,
    "nbgrader": {
     "cell_type": "markdown",
     "checksum": "fdf16ba45f4e9d21bcc0315a2c305e52",
     "grade": false,
     "grade_id": "cell-172effd56517e23f",
     "locked": true,
     "schema_version": 3,
     "solution": false,
     "task": false
    }
   },
   "source": [
    "**(a)** [5] Show that the true solution is actually correct."
   ]
  },
  {
   "cell_type": "markdown",
   "metadata": {
    "deletable": false,
    "nbgrader": {
     "cell_type": "markdown",
     "checksum": "d12c549ede1b1b7cef7c37cf36705daf",
     "grade": true,
     "grade_id": "cell-9d90a0aeacf42bf5",
     "locked": false,
     "points": 5,
     "schema_version": 3,
     "solution": true,
     "task": false
    }
   },
   "source": [
    "### Solution\n",
    "\n",
    "$$u'(x) = 1 + \\left(\\frac{(\\beta - \\alpha - 1)}{e^{1/\\epsilon} - 1}\\right) \\left(\\frac{1}{\\epsilon} \\right)(e^{x/\\epsilon} - 1)$$\n",
    "\n",
    "And:\n",
    "\n",
    "$$\\epsilon u''(x) = \\left(\\frac{(\\beta - \\alpha - 1)}{e^{1/\\epsilon} - 1}\\right) \\left(\\frac{1}{\\epsilon} \\right)(e^{x/\\epsilon} - 1) $$\n",
    "\n",
    "Looking at $\\epsilon u''(x) - u'(x)$, the large expression cancels and we're left with $-1$ and it checks out since $f(x)=-1$\n",
    "\n",
    "Check BC:\n",
    "\n",
    "$$u(0) = \\alpha + 0 + (\\beta - \\alpha - 1)\\left(\\frac{e^0 - 1}{e^{1/\\epsilon} - 1}\\right) = \\alpha $$\n",
    "$$u(1) = \\alpha + 1 + (\\beta - \\alpha - 1)(1) = \\beta $$\n",
    "\n",
    "We have verified that the solution is correct."
   ]
  },
  {
   "cell_type": "markdown",
   "metadata": {
    "deletable": false,
    "editable": false,
    "nbgrader": {
     "cell_type": "markdown",
     "checksum": "cf8c65525fc90b788bc5cade8f8293a9",
     "grade": false,
     "grade_id": "cell-6364957568892671",
     "locked": true,
     "schema_version": 3,
     "solution": false
    }
   },
   "source": [
    "**(a)** [15] Discretize the boundary value problem presented using at least second order finite difference methods.  Make sure to pick the appropriate finite difference approach at the boundaries."
   ]
  },
  {
   "cell_type": "code",
   "execution_count": 2,
   "metadata": {
    "deletable": false,
    "nbgrader": {
     "cell_type": "code",
     "checksum": "aa427c9b93bd80aa22f2153ac304ffbb",
     "grade": false,
     "grade_id": "cell-484106738343592",
     "locked": false,
     "schema_version": 3,
     "solution": true
    }
   },
   "outputs": [],
   "source": [
    "def solve_adv_diff(alpha, beta, epsilon, m):\n",
    "    \"\"\"Solve the steady-state advection-diffusion problem\n",
    "    \n",
    "    :Input\n",
    "     - *alpha* (float) - Value that defines the BC at x = 0\n",
    "     - *beta* (float) - Value that defines the BC at x = 1\n",
    "     - *epsilon* (float) - The ratio of the advection speed and diffusivity\n",
    "     - *m* (int) - Number of grid points to use\n",
    "     \n",
    "    :Output:\n",
    "     - *x* (ndarray) - Location of grid points used including boundaries\n",
    "     - *U* (ndarray) - Solution array including boundary conditions (m + 2)\n",
    "    \"\"\"\n",
    "    # YOUR CODE HERE\n",
    "    a = 0\n",
    "    b = 1\n",
    "    x = np.linspace(a, b, m + 2)\n",
    "    dx = 1.0/(m+1)\n",
    "\n",
    "    # Matrix Construction + Solving\n",
    "    A = np.zeros((m, m))\n",
    "    diagonal = epsilon * np.ones(m) / dx**2\n",
    "    A += np.diag(diagonal * -2.0, 0)\n",
    "    A += np.diag(diagonal[:-1] - 1.0/(2.0 * dx), 1)\n",
    "    A += np.diag(diagonal[:-1] + 1.0/(2.0 * dx), -1)\n",
    "\n",
    "    b = -1.0 * np.ones(m)\n",
    "    b[0] -= epsilon * alpha/dx**2 + alpha/(2 * dx)\n",
    "    b[-1] -= epsilon * beta/dx**2 - beta/(2 * dx)\n",
    "\n",
    "    U = np.empty(m + 2)\n",
    "    U[0] = alpha\n",
    "    U[-1] = beta\n",
    "    U[1:-1] = np.linalg.solve(A, b)\n",
    "    \n",
    "    return x, U"
   ]
  },
  {
   "cell_type": "code",
   "execution_count": 3,
   "metadata": {
    "deletable": false,
    "editable": false,
    "nbgrader": {
     "cell_type": "code",
     "checksum": "8eccc6b313d035d8561bf39977c71346",
     "grade": true,
     "grade_id": "cell-6991656051774681",
     "locked": true,
     "points": 15,
     "schema_version": 3,
     "solution": false
    }
   },
   "outputs": [
    {
     "name": "stdout",
     "output_type": "stream",
     "text": [
      "8.130805084462166e-05\n",
      "Success!\n"
     ]
    },
    {
     "data": {
      "image/png": "[encoded data removed]",
      "text/plain": [
       "<Figure size 432x288 with 1 Axes>"
      ]
     },
     "metadata": {
      "needs_background": "light"
     },
     "output_type": "display_data"
    }
   ],
   "source": [
    "alpha = 1.0\n",
    "beta = 3.0\n",
    "epsilon = -0.1\n",
    "u_true = lambda x: alpha + x + (beta - alpha - 1.0) * (numpy.exp(x / epsilon) - 1.0) / (numpy.exp(1.0 / epsilon) - 1.0)\n",
    "x, U = solve_adv_diff(alpha, beta, epsilon, 100)\n",
    "\n",
    "fig = plt.figure()\n",
    "axes = fig.add_subplot(1, 1, 1)\n",
    "axes.plot(x, U, 'bo')\n",
    "axes.plot(x, u_true(x), 'k')\n",
    "axes.set_xlabel(\"x\")\n",
    "axes.set_ylabel(\"u(x)\")\n",
    "axes.set_xlim((0.0, 1.0))\n",
    "\n",
    "error = numpy.linalg.norm((x[1] - x[0]) * (U - u_true(x)), ord=1)\n",
    "print(error)\n",
    "assert(error < 1e-4)\n",
    "print(\"Success!\")"
   ]
  },
  {
   "cell_type": "markdown",
   "metadata": {
    "deletable": false,
    "editable": false,
    "nbgrader": {
     "cell_type": "markdown",
     "checksum": "03588d6c8434dca04e23ea706c0fbb26",
     "grade": false,
     "grade_id": "cell-7157645900336997",
     "locked": true,
     "schema_version": 3,
     "solution": false
    }
   },
   "source": [
    "**(b)** [15] Using your function from part (a) explore the parameter space a bit by varying $m$ and $\\epsilon$.  Suggested values to explore include $m \\in [10, 100]$ and $\\epsilon \\in [-0.01, -1.0]$.\n",
    "\n",
    "Describe what you observe with both plots and written observations.  In particular do your solutions seem physically reasonable?  If your code has difficulties explain why it might be having issues."
   ]
  },
  {
   "cell_type": "code",
   "execution_count": 4,
   "metadata": {
    "deletable": false,
    "nbgrader": {
     "cell_type": "code",
     "checksum": "408dae74c6bae44e32944008395cbaf6",
     "grade": true,
     "grade_id": "cell-4718808055966480",
     "locked": false,
     "points": 7.5,
     "schema_version": 3,
     "solution": true
    }
   },
   "outputs": [
    {
     "data": {
      "image/png": "[encoded data removed]",
      "text/plain": [
       "<Figure size 432x288 with 1 Axes>"
      ]
     },
     "metadata": {
      "needs_background": "light"
     },
     "output_type": "display_data"
    }
   ],
   "source": [
    "a = 0.0\n",
    "b = 1.0\n",
    "alpha = 1.0\n",
    "beta = 3.0\n",
    "epsilon = 0.1\n",
    "u_true = lambda x: alpha + x + (beta - alpha - 1.0) * (numpy.exp(x / epsilon) - 1.0) / (numpy.exp(1.0 / epsilon) - 1.0)\n",
    "\n",
    "# YOUR CODE HERE\n",
    "x, U = solve_adv_diff(alpha, beta, epsilon=-0.01, m=10)\n",
    "plt.plot(x, U, 'b', alpha=0.8, label='Approximate Solution')\n",
    "plt.plot(x, u_true(x), 'k', alpha=1, label='True Solution')\n",
    "plt.xlabel(\"x\")\n",
    "plt.ylabel(\"u(x)\")\n",
    "plt.legend()\n",
    "plt.grid()"
   ]
  },
  {
   "cell_type": "code",
   "execution_count": 5,
   "metadata": {},
   "outputs": [
    {
     "data": {
      "image/png": "[encoded data removed]",
      "text/plain": [
       "<Figure size 432x288 with 1 Axes>"
      ]
     },
     "metadata": {
      "needs_background": "light"
     },
     "output_type": "display_data"
    }
   ],
   "source": [
    "x, U = solve_adv_diff(alpha, beta, epsilon=-1.0, m=100)\n",
    "plt.plot(x, U, 'b', alpha=0.8, label='Approximate Solution')\n",
    "plt.plot(x, u_true(x), 'k', alpha=1, label='True Solution')\n",
    "plt.xlabel(\"x\")\n",
    "plt.ylabel(\"u(x)\")\n",
    "plt.legend()\n",
    "plt.grid()"
   ]
  },
  {
   "cell_type": "code",
   "execution_count": 6,
   "metadata": {},
   "outputs": [
    {
     "data": {
      "image/png": "[encoded data removed]",
      "text/plain": [
       "<Figure size 432x288 with 1 Axes>"
      ]
     },
     "metadata": {
      "needs_background": "light"
     },
     "output_type": "display_data"
    }
   ],
   "source": [
    "x, U = solve_adv_diff(alpha, beta, epsilon=-0.01, m=100)\n",
    "plt.plot(x, U, 'b', alpha=0.8, label='Approximate Solution')\n",
    "plt.plot(x, u_true(x), 'k', alpha=1, label='True Solution')\n",
    "plt.xlabel(\"x\")\n",
    "plt.ylabel(\"u(x)\")\n",
    "plt.legend()\n",
    "plt.grid()"
   ]
  },
  {
   "cell_type": "code",
   "execution_count": 7,
   "metadata": {},
   "outputs": [
    {
     "data": {
      "image/png": "[encoded data removed]",
      "text/plain": [
       "<Figure size 432x288 with 1 Axes>"
      ]
     },
     "metadata": {
      "needs_background": "light"
     },
     "output_type": "display_data"
    }
   ],
   "source": [
    "x, U = solve_adv_diff(alpha, beta, epsilon=-1, m=10)\n",
    "plt.plot(x, U, 'b', alpha=0.8, label='Approximate Solution')\n",
    "plt.plot(x, u_true(x), 'k', alpha=1, label='True Solution')\n",
    "plt.xlabel(\"x\")\n",
    "plt.ylabel(\"u(x)\")\n",
    "plt.legend()\n",
    "plt.grid()"
   ]
  },
  {
   "cell_type": "code",
   "execution_count": 8,
   "metadata": {},
   "outputs": [
    {
     "data": {
      "image/png": "[encoded data removed]",
      "text/plain": [
       "<Figure size 432x288 with 1 Axes>"
      ]
     },
     "metadata": {
      "needs_background": "light"
     },
     "output_type": "display_data"
    }
   ],
   "source": [
    "x, U = solve_adv_diff(alpha, beta, epsilon=-0.5, m=50)\n",
    "plt.plot(x, U, 'b', alpha=0.8, label='Approximate Solution')\n",
    "plt.plot(x, u_true(x), 'k', alpha=1, label='True Solution')\n",
    "plt.xlabel(\"x\")\n",
    "plt.ylabel(\"u(x)\")\n",
    "plt.legend()\n",
    "plt.grid()"
   ]
  },
  {
   "cell_type": "markdown",
   "metadata": {
    "deletable": false,
    "nbgrader": {
     "cell_type": "markdown",
     "checksum": "8f4657a38fde10f9079a0b60138c668b",
     "grade": true,
     "grade_id": "cell-8000155034097309",
     "locked": false,
     "points": 7.5,
     "schema_version": 3,
     "solution": true
    }
   },
   "source": [
    "### Solution:\n",
    "\n",
    "I noticed with larger $\\epsilon$ & $m$, the plots look very sharp and smooths out as $\\epsilon$ gets smaller and $m$ gets larger. I varied the parameter space but the true solution & approximation solution doesn't seem to agree anywhere except at $x=0$ and $x=1$"
   ]
  },
  {
   "cell_type": "markdown",
   "metadata": {
    "deletable": false,
    "editable": false,
    "nbgrader": {
     "cell_type": "markdown",
     "checksum": "1fccda3b7a3b3d8c3d28dac855acb3be",
     "grade": false,
     "grade_id": "cell-1730620894910562",
     "locked": true,
     "schema_version": 3,
     "solution": false
    }
   },
   "source": [
    "## Question 2\n",
    "\n",
    "Consider the following BVP:\n",
    "$$\n",
    "    u''(x) + u(x) = 0 \\quad \\quad x \\in \\Omega = (a, b) \\\\\n",
    "    u(a) = \\alpha \\quad u(b) = \\beta\n",
    "$$\n",
    "where $L = b - a$."
   ]
  },
  {
   "cell_type": "markdown",
   "metadata": {
    "deletable": false,
    "editable": false,
    "nbgrader": {
     "cell_type": "markdown",
     "checksum": "780c0c6f1be5279bff4489197f0d4dad",
     "grade": false,
     "grade_id": "cell-3634604877306792",
     "locked": true,
     "schema_version": 3,
     "solution": false
    }
   },
   "source": [
    "**(a)** [10] What is the exact solution of the BVP?"
   ]
  },
  {
   "cell_type": "markdown",
   "metadata": {
    "deletable": false,
    "nbgrader": {
     "cell_type": "markdown",
     "checksum": "dfb9ebfe6bd1e6a2e592d936567c0395",
     "grade": true,
     "grade_id": "cell-3539711075833027",
     "locked": false,
     "points": 10,
     "schema_version": 3,
     "solution": true
    }
   },
   "source": [
    "### Solution:\n",
    "\n",
    "This is a second order ODE, and it's characteristic yields the solutions $\\pm i$ so it is known that our solution is in the form:\n",
    "\n",
    "$$u(x) = c_1 cos(x) + c_2 sin(x)$$\n",
    "\n",
    "All is left is to solve for $c_1$ and $c_2$ using our given boundary conditions. We have that:\n",
    "\n",
    "$$ c_1 cos(a) + c_2 sin(a) = \\alpha$$\n",
    "\n",
    "Solving for $c_1$ yields:\n",
    "\n",
    "$$c_1 = \\frac{\\alpha}{cos(a)} - c_2 tan(a)$$\n",
    "\n",
    "Likewise, we can obtain a similar expression for $c_2$:\n",
    "\n",
    "$$c_2 = \\frac{\\beta}{cos(b)} - c_2 tan(b)$$\n",
    "\n",
    "Plugging in $c_2$ in the expression for for $c_1$ expression gives:\n",
    "\n",
    "$$c_1 = \\frac{\\alpha}{cos(a)} - tan(a)\\left(\\frac{\\alpha}{cos(b)} - c_1 tan(b)\\right)$$\n",
    "$$\\implies c_1 = \\frac{\\alpha tan(a)sec(b)-\\alpha sec(a)}{tan(a)tan(b)-1}$$\n",
    "\n",
    "$c_2$ can be derived in a similar fashion."
   ]
  },
  {
   "cell_type": "markdown",
   "metadata": {
    "deletable": false,
    "editable": false,
    "nbgrader": {
     "cell_type": "markdown",
     "checksum": "7cd7a109e9c2fc9c4b01d6dad31e2d63",
     "grade": false,
     "grade_id": "cell-8896567912616505",
     "locked": true,
     "schema_version": 3,
     "solution": false
    }
   },
   "source": [
    "**(b)** [15] Write a function that solves this equation using a finite difference approximation."
   ]
  },
  {
   "cell_type": "code",
   "execution_count": 9,
   "metadata": {
    "deletable": false,
    "nbgrader": {
     "cell_type": "code",
     "checksum": "5ae4046710e068855479e41cf392d287",
     "grade": false,
     "grade_id": "cell-928726382559822",
     "locked": false,
     "schema_version": 3,
     "solution": true
    }
   },
   "outputs": [],
   "source": [
    "def solve_linear_pendulum(a, b, alpha, beta, m):\n",
    "    \"\"\"Solve u'' + u = 0 with x \\in (a, b) and u(a) = \\alpha, u(b) = \\beta\n",
    "    \n",
    "    Returns the points the solution was approximated at including the boundaries and\n",
    "    the solution\n",
    "    \"\"\"\n",
    "    # YOUR CODE HERE\n",
    "    x = np.linspace(a, b, m + 2)\n",
    "    dx = 1.0/(m + 1)\n",
    "    \n",
    "    # Matrix Construction & Solving\n",
    "    A = np.zeros((m, m))\n",
    "    diagonal = np.ones(m)\n",
    "    A += np.diag((dx**2 - 2.) * diagonal, 0)\n",
    "    A += np.diag(diagonal[:-1], 1)\n",
    "    A += np.diag(diagonal[:-1], -1)\n",
    "    \n",
    "    b = np.zeros(m)\n",
    "    b[0] -= alpha\n",
    "    b[-1] -= beta\n",
    "     \n",
    "    U = np.empty(m + 2)\n",
    "    U[0] = alpha \n",
    "    U[-1] = beta \n",
    "    U[1:-1] = np.linalg.solve(A, b)\n",
    "    return x, U"
   ]
  },
  {
   "cell_type": "code",
   "execution_count": 10,
   "metadata": {
    "deletable": false,
    "editable": false,
    "nbgrader": {
     "cell_type": "code",
     "checksum": "cbf8f525bc3da4f07754000b74fba487",
     "grade": true,
     "grade_id": "cell-3018382947949415",
     "locked": true,
     "points": 15,
     "schema_version": 3,
     "solution": false
    }
   },
   "outputs": [
    {
     "name": "stdout",
     "output_type": "stream",
     "text": [
      "Error =  2.1017625588177483e-06\n",
      "Success!\n"
     ]
    },
    {
     "data": {
      "image/png": "[encoded data removed]",
      "text/plain": [
       "<Figure size 432x288 with 1 Axes>"
      ]
     },
     "metadata": {
      "needs_background": "light"
     },
     "output_type": "display_data"
    }
   ],
   "source": [
    "a = 0.0\n",
    "b = 1.0\n",
    "alpha = 2.0\n",
    "beta = 3.0\n",
    "C1 = (alpha - beta * numpy.sin(a) / numpy.sin(b)) / (numpy.cos(a) - numpy.sin(a) / numpy.tan(b))\n",
    "C2 = beta / numpy.sin(b) - C1 / numpy.tan(b)\n",
    "u_true = lambda x: C1 * numpy.cos(x) + C2 * numpy.sin(x)\n",
    "x, U = solve_linear_pendulum(a, b, alpha, beta, 100)\n",
    "fig = plt.figure()\n",
    "axes = fig.add_subplot(1, 1, 1)\n",
    "axes.plot(x, u_true(x), 'k')\n",
    "axes.plot(x, U, 'ob')\n",
    "axes.set_xlim(a, b)\n",
    "axes.set_xlabel(\"x\")\n",
    "axes.set_ylabel(\"u(x)\")\n",
    "error = numpy.linalg.norm((x[1] - x[0]) * (U - u_true(x)), ord=1)\n",
    "print(\"Error = \", error)\n",
    "assert(error < 1e-5)\n",
    "print(\"Success!\")"
   ]
  },
  {
   "cell_type": "markdown",
   "metadata": {
    "deletable": false,
    "editable": false,
    "nbgrader": {
     "cell_type": "markdown",
     "checksum": "eba22a2d5f76c199ec37024a1305b2d8",
     "grade": false,
     "grade_id": "cell-9633302938333814",
     "locked": true,
     "schema_version": 3,
     "solution": false
    }
   },
   "source": [
    "**(c)** [10] Let $a=0$ and $b=\\pi$.  For what values of $\\alpha$ and $\\beta$ does this BVP have solutions?  Sketch out a family of solutions in the case of infinite numbers of solutions."
   ]
  },
  {
   "cell_type": "markdown",
   "metadata": {
    "deletable": false,
    "nbgrader": {
     "cell_type": "markdown",
     "checksum": "ba2eaeaaed3fd62fa8c0289983de391a",
     "grade": true,
     "grade_id": "cell-5480550098808611",
     "locked": false,
     "points": 5,
     "schema_version": 3,
     "solution": true
    }
   },
   "source": [
    "### Solution:\n",
    "\n",
    "We know that $u(x) = c_1 cos(x) + c_2 sin(x)$, and with $a=0$ we get that $c_1 = \\alpha$ and with $b=\\pi$ we get that $c_1 = -\\beta$.\n",
    "\n",
    "Therefore we will have solutions when $\\alpha = -\\beta$."
   ]
  },
  {
   "cell_type": "code",
   "execution_count": 11,
   "metadata": {
    "deletable": false,
    "nbgrader": {
     "cell_type": "code",
     "checksum": "bc27289d8c414ac8ed3228c200124a89",
     "grade": true,
     "grade_id": "cell-7949057030139063",
     "locked": false,
     "points": 5,
     "schema_version": 3,
     "solution": true
    }
   },
   "outputs": [],
   "source": [
    "# YOUR CODE HERE"
   ]
  },
  {
   "cell_type": "markdown",
   "metadata": {
    "deletable": false,
    "editable": false,
    "nbgrader": {
     "cell_type": "markdown",
     "checksum": "fded99035f68f58339045e4ef180415e",
     "grade": false,
     "grade_id": "cell-1730304330020964",
     "locked": true,
     "schema_version": 3,
     "solution": false
    }
   },
   "source": [
    "**(d)** [10] What happens numerically for the values $a = 0$, $b = \\pi$, $\\alpha = 1$, $\\beta = -1$ as $\\Delta x \\rightarrow 0$?  Also try with $\\alpha = \\beta = 1$."
   ]
  },
  {
   "cell_type": "markdown",
   "metadata": {
    "deletable": false,
    "nbgrader": {
     "cell_type": "markdown",
     "checksum": "6d1445d56edc9114bfa5b4e5959b1cdb",
     "grade": true,
     "grade_id": "cell-9163036478906246",
     "locked": false,
     "points": 5,
     "schema_version": 3,
     "solution": true
    }
   },
   "source": [
    "### Solution:\n",
    "\n",
    "With $\\alpha = -\\beta$ yielding unique solutions, we can expect that for $a=0, b=\\pi, \\alpha=1, \\beta = -1$ that the solutions are very close.\n",
    "\n",
    "However, the same cannot be said for $\\alpha=\\beta=1$"
   ]
  },
  {
   "cell_type": "code",
   "execution_count": 12,
   "metadata": {
    "deletable": false,
    "nbgrader": {
     "cell_type": "code",
     "checksum": "848c48084f4217b2f9438cf43b12bd5c",
     "grade": true,
     "grade_id": "cell-5755573651360367",
     "locked": false,
     "points": 5,
     "schema_version": 3,
     "solution": true
    }
   },
   "outputs": [],
   "source": [
    "# YOUR CODE HERE"
   ]
  },
  {
   "cell_type": "markdown",
   "metadata": {
    "deletable": false,
    "editable": false,
    "nbgrader": {
     "cell_type": "markdown",
     "checksum": "87af92f3066e9b2051681826c49acc4f",
     "grade": false,
     "grade_id": "cell-9332131569430936",
     "locked": true,
     "schema_version": 3,
     "solution": false
    }
   },
   "source": [
    "**(e)** [20] You might expect the linear system in part (c) to be singular since the boundary value problem is not well posed.  Clearly this does not seem to be the case as we are finding solutions.  One argument for why this is the case is that the finite discretization leads to a system that is solvable.  Let's investigate this computational by computing some quantities related to the matrix $A$ and show what their behavior is as $\\Delta x \\rightarrow 0$:\n",
    " - compute the eigenvalues of the matrix $A$,\n",
    " - compute the $L_2$ norm of $A^{-1}$, and\n",
    " - compute the condition number of the matrix $A$.\n",
    "Comment on what you observe."
   ]
  },
  {
   "cell_type": "code",
   "execution_count": 13,
   "metadata": {
    "deletable": false,
    "nbgrader": {
     "cell_type": "code",
     "checksum": "ca80b9c864bc1a05377963e6f6c0f48a",
     "grade": true,
     "grade_id": "cell-4900154972182216",
     "locked": false,
     "points": 10,
     "schema_version": 3,
     "solution": true
    }
   },
   "outputs": [
    {
     "name": "stdout",
     "output_type": "stream",
     "text": [
      "Eigenvalues: 0.0005529257503942968\n",
      "\n",
      "\n",
      "L2 norm of A inverse: 1808.5610939381195\n",
      "\n",
      "\n",
      "Condition number: 6940.20664794707\n"
     ]
    }
   ],
   "source": [
    "# YOUR CODE HERE\n",
    "m = 10\n",
    "dx = np.pi/(m+1)\n",
    "\n",
    "A = np.zeros((m, m))\n",
    "diagonal = np.ones(m)\n",
    "A += np.diag((dx**2 - 2.) * diagonal, 0)\n",
    "A += np.diag(diagonal[:-1], 1)\n",
    "A += np.diag(diagonal[:-1], -1)\n",
    "\n",
    "print('Eigenvalues:', np.max(np.linalg.eig(A)[0]))\n",
    "print('\\n')\n",
    "print('L2 norm of A inverse:', np.linalg.norm(np.linalg.inv(A), ord=2))\n",
    "print('\\n')\n",
    "print('Condition number:',np.linalg.cond(A))"
   ]
  },
  {
   "cell_type": "code",
   "execution_count": 14,
   "metadata": {},
   "outputs": [
    {
     "name": "stdout",
     "output_type": "stream",
     "text": [
      "Eigenvalues: 1.775470659484198e-05\n",
      "\n",
      "\n",
      "L2 norm of A inverse: 56323.093521096926\n",
      "\n",
      "\n",
      "Condition number: 223648.7390170746\n"
     ]
    }
   ],
   "source": [
    "m = 25\n",
    "dx = np.pi/(m+1)\n",
    "\n",
    "A = np.zeros((m, m))\n",
    "diagonal = np.ones(m)\n",
    "A += np.diag((dx**2 - 2.) * diagonal, 0)\n",
    "A += np.diag(diagonal[:-1], 1)\n",
    "A += np.diag(diagonal[:-1], -1)\n",
    "\n",
    "print('Eigenvalues:', np.max(np.linalg.eig(A)[0]))\n",
    "print('\\n')\n",
    "print('L2 norm of A inverse:', np.linalg.norm(np.linalg.inv(A), ord=2))\n",
    "print('\\n')\n",
    "print('Condition number:',np.linalg.cond(A))"
   ]
  },
  {
   "cell_type": "code",
   "execution_count": 15,
   "metadata": {},
   "outputs": [
    {
     "name": "stdout",
     "output_type": "stream",
     "text": [
      "Eigenvalues: 0.0062064853769148165\n",
      "\n",
      "\n",
      "L2 norm of A inverse: 161.12178459640214\n",
      "\n",
      "\n",
      "Condition number: 557.1422342542588\n"
     ]
    }
   ],
   "source": [
    "m = 5\n",
    "dx = np.pi/(m+1)\n",
    "\n",
    "A = np.zeros((m, m))\n",
    "diagonal = np.ones(m)\n",
    "A += np.diag((dx**2 - 2.) * diagonal, 0)\n",
    "A += np.diag(diagonal[:-1], 1)\n",
    "A += np.diag(diagonal[:-1], -1)\n",
    "\n",
    "print('Eigenvalues:', np.max(np.linalg.eig(A)[0]))\n",
    "print('\\n')\n",
    "print('L2 norm of A inverse:', np.linalg.norm(np.linalg.inv(A), ord=2))\n",
    "print('\\n')\n",
    "print('Condition number:',np.linalg.cond(A))"
   ]
  },
  {
   "cell_type": "markdown",
   "metadata": {
    "deletable": false,
    "nbgrader": {
     "cell_type": "markdown",
     "checksum": "1817c54d3121e18d906f9b4da59ecf8b",
     "grade": true,
     "grade_id": "cell-1887632929372213",
     "locked": false,
     "points": 10,
     "schema_version": 3,
     "solution": true
    }
   },
   "source": [
    "### Solution:\n",
    "\n",
    "As $\\Delta x \\rightarrow 0$, the maximum eigenvalues decrease but the norm and condition number increases."
   ]
  }
 ],
 "metadata": {
  "kernelspec": {
   "display_name": "Python 3",
   "language": "python",
   "name": "python3"
  },
  "language_info": {
   "codemirror_mode": {
    "name": "ipython",
    "version": 3
   },
   "file_extension": ".py",
   "mimetype": "text/x-python",
   "name": "python",
   "nbconvert_exporter": "python",
   "pygments_lexer": "ipython3",
   "version": "3.8.5"
  }
 },
 "nbformat": 4,
 "nbformat_minor": 4
}
